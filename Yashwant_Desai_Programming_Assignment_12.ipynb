{
 "cells": [
  {
   "cell_type": "markdown",
   "id": "0c27a818",
   "metadata": {},
   "source": [
    "# Yashwant Desai –  Programming_Assingment 12"
   ]
  },
  {
   "cell_type": "markdown",
   "id": "0aeac6b7",
   "metadata": {},
   "source": [
    "# 1.\tWrite a Python program to Extract Unique values dictionary values?"
   ]
  },
  {
   "cell_type": "code",
   "execution_count": 1,
   "id": "92c51c8d",
   "metadata": {},
   "outputs": [
    {
     "name": "stdout",
     "output_type": "stream",
     "text": [
      "Unique values: {200, 100, 400, 300}\n"
     ]
    }
   ],
   "source": [
    "def extract_unique_values(dictionary):\n",
    "    all_values = dictionary.values()\n",
    "    unique_values = set()\n",
    "    for value in all_values:\n",
    "        unique_values.add(value)\n",
    "    return unique_values\n",
    "example_dict = {\n",
    "    'a': 100,\n",
    "    'b': 200,\n",
    "    'c': 300,\n",
    "    'd': 200,\n",
    "    'e': 400,\n",
    "    'f': 300,\n",
    "}\n",
    "unique_values_set = extract_unique_values(example_dict)\n",
    "print(\"Unique values:\", unique_values_set)"
   ]
  },
  {
   "cell_type": "markdown",
   "id": "86faf34c",
   "metadata": {},
   "source": [
    "# 2.\tWrite a Python program to find the sum of all items in a dictionary?"
   ]
  },
  {
   "cell_type": "code",
   "execution_count": 2,
   "id": "fc220114",
   "metadata": {},
   "outputs": [
    {
     "name": "stdout",
     "output_type": "stream",
     "text": [
      "Sum of all items: 1100\n"
     ]
    }
   ],
   "source": [
    "def sum_of_values(dictionary):\n",
    "    total_sum = sum(dictionary.values())\n",
    "    return total_sum\n",
    "example_dict = {\n",
    "    'a': 100,\n",
    "    'b': 200,\n",
    "    'c': 300,\n",
    "    'd': 500,\n",
    "}\n",
    "result = sum_of_values(example_dict)\n",
    "print(\"Sum of all items:\", result)"
   ]
  },
  {
   "cell_type": "markdown",
   "id": "7083c381",
   "metadata": {},
   "source": [
    "# 3.\tWrite a Python program to Merging two Dictionaries?"
   ]
  },
  {
   "cell_type": "code",
   "execution_count": 4,
   "id": "97471316",
   "metadata": {},
   "outputs": [
    {
     "name": "stdout",
     "output_type": "stream",
     "text": [
      "Merged dictionary: {'a': 1, 'b': 2, 'c': 3, 'd': 4}\n"
     ]
    }
   ],
   "source": [
    "def merge_dicts(dict1, dict2):\n",
    "    merged_dict = dict1.copy()\n",
    "    merged_dict.update(dict2)\n",
    "    return merged_dict\n",
    "dict1 = {'a': 1, 'b': 2}\n",
    "dict2 = {'c': 3, 'd': 4}\n",
    "merged_dict = merge_dicts(dict1, dict2)\n",
    "print(\"Merged dictionary:\", merged_dict)"
   ]
  },
  {
   "cell_type": "markdown",
   "id": "7e56d57b",
   "metadata": {},
   "source": [
    "# 4.\tWrite a Python program to convert key-values list to flat dictionary?"
   ]
  },
  {
   "cell_type": "code",
   "execution_count": 5,
   "id": "cad59298",
   "metadata": {},
   "outputs": [
    {
     "name": "stdout",
     "output_type": "stream",
     "text": [
      "Flat dictionary: {'a': 1, 'b': 2, 'c': 3, 'd': 4}\n"
     ]
    }
   ],
   "source": [
    "def list_to_flat_dict(key_value_list):\n",
    "    flat_dict = {key: value for key, value in key_value_list}\n",
    "    return flat_dict\n",
    "key_value_list = [('a', 1), ('b', 2), ('c', 3), ('d', 4)]\n",
    "flat_dict = list_to_flat_dict(key_value_list)\n",
    "print(\"Flat dictionary:\", flat_dict)"
   ]
  },
  {
   "cell_type": "markdown",
   "id": "dbad1fbb",
   "metadata": {},
   "source": [
    "# 5.\tWrite a Python program to insertion at the beginning in OrderedDict?"
   ]
  },
  {
   "cell_type": "code",
   "execution_count": 6,
   "id": "1a8f354c",
   "metadata": {},
   "outputs": [
    {
     "name": "stdout",
     "output_type": "stream",
     "text": [
      "old ordered_dict OrderedDict([('a', 10), ('b', 20), ('c', 30)])\n",
      "Updated OrderedDict: OrderedDict([('y', 40), ('a', 10), ('b', 20), ('c', 30)])\n"
     ]
    }
   ],
   "source": [
    "from collections import OrderedDict\n",
    "def insert_at_beginning(ordered_dict, key, value):\n",
    "    new_ordered_dict = OrderedDict([(key, value)])\n",
    "    new_ordered_dict.update(ordered_dict)\n",
    "    return new_ordered_dict\n",
    "ordered_dict = OrderedDict([('a', 10), ('b', 20), ('c', 30)])\n",
    "print(f\"old ordered_dict {ordered_dict}\")\n",
    "new_key = 'y'\n",
    "new_value = 40\n",
    "updated_ordered_dict = insert_at_beginning(ordered_dict, new_key, new_value)\n",
    "print(\"Updated OrderedDict:\", updated_ordered_dict)"
   ]
  },
  {
   "cell_type": "markdown",
   "id": "a60ad319",
   "metadata": {},
   "source": [
    "# 6.\tWrite a Python program to check order of character in string using OrderedDict()?"
   ]
  },
  {
   "cell_type": "code",
   "execution_count": 7,
   "id": "251b9454",
   "metadata": {},
   "outputs": [
    {
     "name": "stdout",
     "output_type": "stream",
     "text": [
      "Enter a string: yashwant desai\n",
      "characters are not in order\n"
     ]
    }
   ],
   "source": [
    "from collections import OrderedDict\n",
    "def check_order_of_characters(input_string):\n",
    "    ordered_dict = OrderedDict.fromkeys(input_string)\n",
    "    ordered_string = ''.join(ordered_dict.keys())\n",
    "    return ordered_string == input_string\n",
    "if __name__ == \"__main__\":\n",
    "    input_str = input(\"Enter a string: \")\n",
    "    result = check_order_of_characters(input_str)\n",
    "    if result:\n",
    "        print(\"characters are in order\")\n",
    "    else:\n",
    "        print(\"characters are not in order\")"
   ]
  },
  {
   "cell_type": "markdown",
   "id": "2e253986",
   "metadata": {},
   "source": [
    "# 7.\tWrite a Python program to sort Python Dictionaries by Key or Value?"
   ]
  },
  {
   "cell_type": "code",
   "execution_count": 8,
   "id": "34f53238",
   "metadata": {},
   "outputs": [
    {
     "name": "stdout",
     "output_type": "stream",
     "text": [
      "Original dictionary: {'john': 3, 'yashwant': 1, 'conor': 2}\n",
      "Sorted by key: {'conor': 2, 'john': 3, 'yashwant': 1}\n",
      "Sorted by value: {'yashwant': 1, 'conor': 2, 'john': 3}\n"
     ]
    }
   ],
   "source": [
    "from operator import itemgetter\n",
    "def sort_dict_by_key(input_dict):\n",
    "    return dict(sorted(input_dict.items(), key=itemgetter(0)))\n",
    "def sort_dict_by_value(input_dict):\n",
    "    return dict(sorted(input_dict.items(), key=itemgetter(1)))\n",
    "if __name__ == \"__main__\":\n",
    "    example_dict = {'john': 3, 'yashwant': 1, 'conor': 2}\n",
    "    print(\"Original dictionary:\", example_dict)\n",
    "    sorted_by_key = sort_dict_by_key(example_dict)\n",
    "    print(\"Sorted by key:\", sorted_by_key)\n",
    "    sorted_by_value = sort_dict_by_value(example_dict)\n",
    "    print(\"Sorted by value:\", sorted_by_value)"
   ]
  },
  {
   "cell_type": "markdown",
   "id": "a79c0885",
   "metadata": {},
   "source": [
    "# Done Regards,Yashwant"
   ]
  }
 ],
 "metadata": {
  "kernelspec": {
   "display_name": "Python 3 (ipykernel)",
   "language": "python",
   "name": "python3"
  },
  "language_info": {
   "codemirror_mode": {
    "name": "ipython",
    "version": 3
   },
   "file_extension": ".py",
   "mimetype": "text/x-python",
   "name": "python",
   "nbconvert_exporter": "python",
   "pygments_lexer": "ipython3",
   "version": "3.9.13"
  }
 },
 "nbformat": 4,
 "nbformat_minor": 5
}
